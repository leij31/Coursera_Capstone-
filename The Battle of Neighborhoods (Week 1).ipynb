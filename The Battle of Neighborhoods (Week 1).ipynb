{
 "cells": [
  {
   "cell_type": "markdown",
   "metadata": {},
   "source": [
    "### Part 1 : Introduction and Data Sections\n",
    "##### I. Introduction\n",
    "\n",
    "##### Problem background:\n",
    "Pizza is a food that is easy, you will just pick up your phone, and call the nearest pizza place. However, due to the recent pandemic some pizza places were closed down. especially in new york where majority of the US cases is located. I want to determine which pizza places deliver food during these pandemic. \n",
    "\n",
    "With the facilitating limitations, it is critical to recognize how Pizza fans can securely stuff their countenances. Ideally is discover a Pizza eatery that does food delivery. This is get the most sweltering pizza, while keeping up detachment at home. \n",
    "\n",
    "\n",
    "\n",
    "                          \n",
    "##### Data Description\n",
    "For this investigation I am posting down the sources and sorts of information I would utilize CDC COVID information postponed neighborhood insightful. NYC civil information in geoJson group enumerating the area geo information. Foursquare information for Pizza eatery areas. I would do a minor cleanup since the information is from various sources. Key here would be the Modified CTA is an adjusted ZIP code information.\n",
    "https://github.com/nychealth/coronavirus-information\n",
    "\n"
   ]
  },
  {
   "cell_type": "code",
   "execution_count": null,
   "metadata": {},
   "outputs": [],
   "source": []
  }
 ],
 "metadata": {
  "kernelspec": {
   "display_name": "Python 3",
   "language": "python",
   "name": "python3"
  },
  "language_info": {
   "codemirror_mode": {
    "name": "ipython",
    "version": 3
   },
   "file_extension": ".py",
   "mimetype": "text/x-python",
   "name": "python",
   "nbconvert_exporter": "python",
   "pygments_lexer": "ipython3",
   "version": "3.7.6"
  }
 },
 "nbformat": 4,
 "nbformat_minor": 4
}
